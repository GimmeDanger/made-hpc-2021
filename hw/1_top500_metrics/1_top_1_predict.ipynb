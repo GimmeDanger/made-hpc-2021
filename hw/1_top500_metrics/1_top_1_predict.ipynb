{
 "cells": [
  {
   "cell_type": "markdown",
   "id": "04517389",
   "metadata": {},
   "source": [
    "# На основании данных рейтинга top500 спрогнозировать  производительность компьютера №1 в 2025"
   ]
  },
  {
   "cell_type": "markdown",
   "id": "accf6090",
   "metadata": {},
   "source": [
    "График производительности по годам: https://www.top500.org/statistics/perfdevel/\n",
    "\n",
    "Поскольку большинство топ системы уникальны, а из данных есть только текстовое описание (применить nlp к нему?) + число ядер (само число ничего не значит) + flops, то будем предсказывать flops(t), по закону Мура производительность экспоненциальна, поэтому будем предсказывать log(flops) с помощью линейной регрессии"
   ]
  },
  {
   "cell_type": "code",
   "execution_count": 6,
   "id": "1fb681ed",
   "metadata": {},
   "outputs": [
    {
     "data": {
      "text/html": [
       "<div>\n",
       "<style scoped>\n",
       "    .dataframe tbody tr th:only-of-type {\n",
       "        vertical-align: middle;\n",
       "    }\n",
       "\n",
       "    .dataframe tbody tr th {\n",
       "        vertical-align: top;\n",
       "    }\n",
       "\n",
       "    .dataframe thead th {\n",
       "        text-align: right;\n",
       "    }\n",
       "</style>\n",
       "<table border=\"1\" class=\"dataframe\">\n",
       "  <thead>\n",
       "    <tr style=\"text-align: right;\">\n",
       "      <th></th>\n",
       "      <th>date</th>\n",
       "      <th>sum_float</th>\n",
       "      <th>sum_str</th>\n",
       "      <th>#1_float</th>\n",
       "      <th>#1_str</th>\n",
       "      <th>#500_float</th>\n",
       "      <th>#500_str</th>\n",
       "    </tr>\n",
       "  </thead>\n",
       "  <tbody>\n",
       "    <tr>\n",
       "      <th>0</th>\n",
       "      <td>1993-5-1</td>\n",
       "      <td>1128.57</td>\n",
       "      <td>06/1993: Sum = 1.1 TFlop/s</td>\n",
       "      <td>59.7</td>\n",
       "      <td>06/1993: #1 = 59.7 GFlop/s</td>\n",
       "      <td>0.42</td>\n",
       "      <td>06/1993: #500 = 0.4 GFlop/s]</td>\n",
       "    </tr>\n",
       "    <tr>\n",
       "      <th>1</th>\n",
       "      <td>1993-10-1</td>\n",
       "      <td>1493.35</td>\n",
       "      <td>11/1993: Sum = 1.5 TFlop/s</td>\n",
       "      <td>124.0</td>\n",
       "      <td>11/1993: #1 = 124.0 GFlop/s</td>\n",
       "      <td>0.47</td>\n",
       "      <td>11/1993: #500 = 0.5 GFlop/s]</td>\n",
       "    </tr>\n",
       "    <tr>\n",
       "      <th>2</th>\n",
       "      <td>1994-5-1</td>\n",
       "      <td>2317.01</td>\n",
       "      <td>06/1994: Sum = 2.3 TFlop/s</td>\n",
       "      <td>143.4</td>\n",
       "      <td>06/1994: #1 = 143.4 GFlop/s</td>\n",
       "      <td>0.84</td>\n",
       "      <td>06/1994: #500 = 0.8 GFlop/s]</td>\n",
       "    </tr>\n",
       "    <tr>\n",
       "      <th>3</th>\n",
       "      <td>1994-10-1</td>\n",
       "      <td>2732.24</td>\n",
       "      <td>11/1994: Sum = 2.7 TFlop/s</td>\n",
       "      <td>170.0</td>\n",
       "      <td>11/1994: #1 = 170.0 GFlop/s</td>\n",
       "      <td>1.16</td>\n",
       "      <td>11/1994: #500 = 1.2 GFlop/s]</td>\n",
       "    </tr>\n",
       "    <tr>\n",
       "      <th>4</th>\n",
       "      <td>1995-5-1</td>\n",
       "      <td>3927.00</td>\n",
       "      <td>06/1995: Sum = 3.9 TFlop/s</td>\n",
       "      <td>170.0</td>\n",
       "      <td>06/1995: #1 = 170.0 GFlop/s</td>\n",
       "      <td>1.96</td>\n",
       "      <td>06/1995: #500 = 2.0 GFlop/s]</td>\n",
       "    </tr>\n",
       "  </tbody>\n",
       "</table>\n",
       "</div>"
      ],
      "text/plain": [
       "        date  sum_float                     sum_str  #1_float  \\\n",
       "0   1993-5-1    1128.57  06/1993: Sum = 1.1 TFlop/s      59.7   \n",
       "1  1993-10-1    1493.35  11/1993: Sum = 1.5 TFlop/s     124.0   \n",
       "2   1994-5-1    2317.01  06/1994: Sum = 2.3 TFlop/s     143.4   \n",
       "3  1994-10-1    2732.24  11/1994: Sum = 2.7 TFlop/s     170.0   \n",
       "4   1995-5-1    3927.00  06/1995: Sum = 3.9 TFlop/s     170.0   \n",
       "\n",
       "                        #1_str  #500_float                      #500_str  \n",
       "0   06/1993: #1 = 59.7 GFlop/s        0.42  06/1993: #500 = 0.4 GFlop/s]  \n",
       "1  11/1993: #1 = 124.0 GFlop/s        0.47  11/1993: #500 = 0.5 GFlop/s]  \n",
       "2  06/1994: #1 = 143.4 GFlop/s        0.84  06/1994: #500 = 0.8 GFlop/s]  \n",
       "3  11/1994: #1 = 170.0 GFlop/s        1.16  11/1994: #500 = 1.2 GFlop/s]  \n",
       "4  06/1995: #1 = 170.0 GFlop/s        1.96  06/1995: #500 = 2.0 GFlop/s]  "
      ]
     },
     "execution_count": 6,
     "metadata": {},
     "output_type": "execute_result"
    }
   ],
   "source": [
    "import pandas as pd\n",
    "\n",
    "names = ['date', 'sum_float', 'sum_str', '#1_float', '#1_str', '#500_float', '#500_str']\n",
    "raw_http_df = pd.read_csv('development.csv', names=names)\n",
    "raw_http_df.head()"
   ]
  },
  {
   "cell_type": "code",
   "execution_count": 11,
   "id": "f9b08fd8",
   "metadata": {},
   "outputs": [
    {
     "data": {
      "text/html": [
       "<div>\n",
       "<style scoped>\n",
       "    .dataframe tbody tr th:only-of-type {\n",
       "        vertical-align: middle;\n",
       "    }\n",
       "\n",
       "    .dataframe tbody tr th {\n",
       "        vertical-align: top;\n",
       "    }\n",
       "\n",
       "    .dataframe thead th {\n",
       "        text-align: right;\n",
       "    }\n",
       "</style>\n",
       "<table border=\"1\" class=\"dataframe\">\n",
       "  <thead>\n",
       "    <tr style=\"text-align: right;\">\n",
       "      <th></th>\n",
       "      <th>date</th>\n",
       "      <th>#1_float</th>\n",
       "    </tr>\n",
       "  </thead>\n",
       "  <tbody>\n",
       "    <tr>\n",
       "      <th>52</th>\n",
       "      <td>2019-5-1</td>\n",
       "      <td>148600000.0</td>\n",
       "    </tr>\n",
       "    <tr>\n",
       "      <th>53</th>\n",
       "      <td>2019-10-1</td>\n",
       "      <td>148600000.0</td>\n",
       "    </tr>\n",
       "    <tr>\n",
       "      <th>54</th>\n",
       "      <td>2020-5-1</td>\n",
       "      <td>415530000.0</td>\n",
       "    </tr>\n",
       "    <tr>\n",
       "      <th>55</th>\n",
       "      <td>2020-10-1</td>\n",
       "      <td>442010000.0</td>\n",
       "    </tr>\n",
       "    <tr>\n",
       "      <th>56</th>\n",
       "      <td>2021-5-1</td>\n",
       "      <td>442010000.0</td>\n",
       "    </tr>\n",
       "  </tbody>\n",
       "</table>\n",
       "</div>"
      ],
      "text/plain": [
       "         date     #1_float\n",
       "52   2019-5-1  148600000.0\n",
       "53  2019-10-1  148600000.0\n",
       "54   2020-5-1  415530000.0\n",
       "55  2020-10-1  442010000.0\n",
       "56   2021-5-1  442010000.0"
      ]
     },
     "execution_count": 11,
     "metadata": {},
     "output_type": "execute_result"
    }
   ],
   "source": [
    "df = raw_http_df[['date', '#1_float']]\n",
    "df.tail()"
   ]
  },
  {
   "cell_type": "markdown",
   "id": "eba72492",
   "metadata": {},
   "source": [
    "### Используем линейную регрессию для log(flops), тк зависимость flops экспоненциальная"
   ]
  },
  {
   "cell_type": "code",
   "execution_count": 108,
   "id": "333c0a50",
   "metadata": {},
   "outputs": [
    {
     "name": "stdout",
     "output_type": "stream",
     "text": [
      "[0.29559942]\n"
     ]
    }
   ],
   "source": [
    "from sklearn import linear_model\n",
    "\n",
    "\n",
    "def get_data(df):\n",
    "    # x = (raiting list #)\n",
    "    x = df.index.to_numpy().reshape(-1, 1)\n",
    "    y = np.log(df['#1_float'])\n",
    "    return x, y\n",
    "\n",
    "def get_x_to_predict(df):\n",
    "    # x = (raiting list #)\n",
    "    x = df.index.to_numpy().reshape(-1, 1)\n",
    "    dates_to_pred = ['2021-10-1', '2022-05-1', '2022-10-1', '2023-05-1',\n",
    "                     '2023-10-1', '2024-05-1', '2024-10-1', '2025-05-1']\n",
    "    x_to_pred = np.arange(x[-1:] + 1, x[-1:] + len(dates_to_pred) + 1)\n",
    "    return x_to_pred.reshape(-1, 1)\n",
    "\n",
    "xs, y = get_data(df)\n",
    "xp = get_x_to_predict(df)\n",
    "model = linear_model.Ridge(fit_intercept=True).fit(xs, y)\n",
    "ys = model.predict(x)\n",
    "yp = model.predict(xp)\n",
    "print(model.coef_)"
   ]
  },
  {
   "cell_type": "code",
   "execution_count": 109,
   "id": "a2324f45",
   "metadata": {},
   "outputs": [
    {
     "data": {
      "image/png": "[encoded data removed]",
      "text/plain": [
       "<Figure size 576x288 with 1 Axes>"
      ]
     },
     "metadata": {},
     "output_type": "display_data"
    },
    {
     "name": "stdout",
     "output_type": "stream",
     "text": [
      "Top#1 performance in 2025-05-01 will be [12.80743527] exaflops/s\n"
     ]
    }
   ],
   "source": [
    "import matplotlib as mpl\n",
    "import matplotlib.pyplot as plt\n",
    "figsize = (8,4)\n",
    "legend_fontsize = 16\n",
    "\n",
    "fig, ax = plt.subplots(figsize=figsize)\n",
    "ax.plot(ys, linewidth=2.5, color='red', label='log(gflop/s) (model)')\n",
    "ax.scatter(xs, y, color='grey', label='log(gflop/s) (train)')\n",
    "ax.scatter(xp, yp, color='blue', label='log(gflop/s) (pred)')\n",
    "ax.legend(fontsize=legend_fontsize)\n",
    "plt.show()\n",
    "\n",
    "print(f'Top#1 performance in 2025-05-01 will be {np.exp(yp[-1:])/1000/1000/1000} exaflops/s', )"
   ]
  }
 ],
 "metadata": {
  "kernelspec": {
   "display_name": "Python 3 (ipykernel)",
   "language": "python",
   "name": "python3"
  },
  "language_info": {
   "codemirror_mode": {
    "name": "ipython",
    "version": 3
   },
   "file_extension": ".py",
   "mimetype": "text/x-python",
   "name": "python",
   "nbconvert_exporter": "python",
   "pygments_lexer": "ipython3",
   "version": "3.8.0"
  }
 },
 "nbformat": 4,
 "nbformat_minor": 5
}
