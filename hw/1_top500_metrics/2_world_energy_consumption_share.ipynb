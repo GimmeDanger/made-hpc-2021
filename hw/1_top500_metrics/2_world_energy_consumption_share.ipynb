{
 "cells": [
  {
   "cell_type": "markdown",
   "id": "5eb01c2c",
   "metadata": {},
   "source": [
    "# Оцените какой процент всего производимого на Земле электричества потребляют все компьютеры из top500 (на основании открытых данных top500.org)\n",
    "\n",
    "Для оценки общемирового потребления возьмем данные https://www.iea.org/reports/global-energy-review-2019/annexes#abstract. В качестве опорной цифры возьмем значения за 2019 (т.к ковидный год принес падение, которое уже, вероятно, будет отыграно в этом году). При этом падения в мощности суперкомпьютеров из-за ковида не произошло, поэтому логично сравнивать с 2019\n",
    "\n",
    "Энергопотребление топ500 считаем с помощью данных за June2021: https://www.top500.org/statistics/efficiency-power-cores/"
   ]
  },
  {
   "cell_type": "markdown",
   "id": "b5956012",
   "metadata": {},
   "source": [
    "### Total world electricity generation = 26951 TWh"
   ]
  },
  {
   "cell_type": "code",
   "execution_count": 51,
   "id": "aa5bed3e",
   "metadata": {
    "scrolled": false
   },
   "outputs": [
    {
     "name": "stdout",
     "output_type": "stream",
     "text": [
      "Total top500 electricity consumption 0.00034399980000000005 TWh\n",
      "Its only 0.0000013% of total world energy consumption \n"
     ]
    }
   ],
   "source": [
    "with open('energy_consumption_raw.txt', 'r') as f:\n",
    "    total_kw = 0\n",
    "    for line in f.readlines():\n",
    "        pos = line.find('eff')\n",
    "        if pos != -1:\n",
    "            kw = float(line[(pos+5):][:-2])\n",
    "            total_kw += kw\n",
    "    print(f'Total top500 electricity consumption {total_kw/10**9} TWh')\n",
    "    print(f'Its only {(total_kw/10**9)/26951*100:0.7f}% of total world energy consumption ')"
   ]
  }
 ],
 "metadata": {
  "kernelspec": {
   "display_name": "Python 3 (ipykernel)",
   "language": "python",
   "name": "python3"
  },
  "language_info": {
   "codemirror_mode": {
    "name": "ipython",
    "version": 3
   },
   "file_extension": ".py",
   "mimetype": "text/x-python",
   "name": "python",
   "nbconvert_exporter": "python",
   "pygments_lexer": "ipython3",
   "version": "3.8.0"
  }
 },
 "nbformat": 4,
 "nbformat_minor": 5
}
